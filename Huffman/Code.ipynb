{
  "nbformat": 4,
  "nbformat_minor": 0,
  "metadata": {
    "colab": {
      "provenance": []
    },
    "kernelspec": {
      "name": "python3",
      "display_name": "Python 3"
    },
    "language_info": {
      "name": "python"
    }
  },
  "cells": [
    {
      "cell_type": "markdown",
      "source": [
        "**Classes and functions**"
      ],
      "metadata": {
        "id": "xmUpzicn4QGN"
      }
    },
    {
      "cell_type": "markdown",
      "source": [
        "Tree class"
      ],
      "metadata": {
        "id": "_d4Z65hmw62A"
      }
    },
    {
      "cell_type": "code",
      "source": [
        "#For this class: Credits to: https://favtutor.com/blogs/huffman-coding\n",
        "class NodeTree(object):\n",
        "    def __init__(self, left=None, right=None):\n",
        "        self.left = left\n",
        "        self.right = right\n",
        "\n",
        "    def children(self):\n",
        "        return self.left, self.right"
      ],
      "metadata": {
        "id": "6TtqCjFIi-4v"
      },
      "execution_count": null,
      "outputs": []
    },
    {
      "cell_type": "markdown",
      "source": [
        "Huffman algorithm"
      ],
      "metadata": {
        "id": "fzP8M53IcreG"
      }
    },
    {
      "cell_type": "code",
      "source": [
        "#for encrypted part\n",
        "#moving on all the tree branches starting from the root till finishing encoding of all letters\n",
        "def encoding(node, encodingString =''):\n",
        "    if type(node) is str:\n",
        "      return {node: encodingString}\n",
        "    (left, right) = node.children()\n",
        "    encodedDictionary = dict()\n",
        "    encodedDictionary.update(encoding(left, encodingString + '0'))\n",
        "    encodedDictionary.update(encoding(right, encodingString + '1'))\n",
        "    #return a dictionary of encoding for each letter\n",
        "    return encodedDictionary\n",
        "\n",
        "def huffman(sortedList): #List of tuples\n",
        "    while len(sortedList) > 1:\n",
        "      #getting last 2 elements\n",
        "      (key1, value1) = sortedList[-1]\n",
        "      (key2, value2) = sortedList[-2]\n",
        "      #deleting last elements\n",
        "      sortedList = sortedList[:-2]\n",
        "      #creating a new node in the tree\n",
        "      newElement = NodeTree(key1,key2)\n",
        "      #add this node to the list\n",
        "      sortedList.append((newElement, value1+value2))\n",
        "      #sort the list again\n",
        "      sortedList = sorted(sortedList, key=lambda x: x[1], reverse=True)\n",
        "    #getting the root of the tree (the first element)\n",
        "    treeRoot = sortedList[0][0]\n",
        "    #getting the dictionary of encoding for each letter using 'encoding' function\n",
        "    encodedDictionary = encoding(treeRoot)\n",
        "    #sort the dictionary alphapitically as a list of tuples\n",
        "    encodedSorted = sorted(encodedDictionary.items())\n",
        "    #convert the list of tuples to a dictionary again\n",
        "    finalEncodedDictionary = dict((x, y) for x, y in encodedSorted)\n",
        "    #return the alphapitically sorted dictionary\n",
        "    return finalEncodedDictionary"
      ],
      "metadata": {
        "id": "feg7FekEv2V7"
      },
      "execution_count": null,
      "outputs": []
    },
    {
      "cell_type": "markdown",
      "source": [
        "Entropy function"
      ],
      "metadata": {
        "id": "z_qEd15T17_v"
      }
    },
    {
      "cell_type": "code",
      "source": [
        "import math\n",
        "def entropy(dicProb):\n",
        "  ent=0.0\n",
        "  for i in dicProb:\n",
        "    ent = ent + float(f'{dicProb[i]}')*math.log2(1/float(f'{dicProb[i]}'))\n",
        "  return ent"
      ],
      "metadata": {
        "id": "ROo5vi9Cc_cz"
      },
      "execution_count": null,
      "outputs": []
    },
    {
      "cell_type": "markdown",
      "source": [
        "Average length function"
      ],
      "metadata": {
        "id": "y2yHULNt2BmQ"
      }
    },
    {
      "cell_type": "code",
      "source": [
        "def avgLen(dicBits,dicProb):\n",
        "  avglen=0.0\n",
        "  for i in dicBits:\n",
        "    avglen = avglen + len(f'{dicBits[i]}')*float(f'{dicProb[i]}')\n",
        "  return avglen"
      ],
      "metadata": {
        "id": "e-NL-uBxdNSD"
      },
      "execution_count": null,
      "outputs": []
    },
    {
      "cell_type": "markdown",
      "source": [
        "Encoded Output function"
      ],
      "metadata": {
        "id": "onvwJIYZ2PC-"
      }
    },
    {
      "cell_type": "code",
      "source": [
        "def encodestring(stringInput,encodedDic):\n",
        "  stringOutputList=[]\n",
        "  for i in range(len(stringInput)):\n",
        "    stringOutputList.append(encodedDic[stringInput[i]])\n",
        "  stringOutput = ''.join(stringOutputList)\n",
        "  return stringOutput"
      ],
      "metadata": {
        "id": "MaFGqQYZi52k"
      },
      "execution_count": null,
      "outputs": []
    },
    {
      "cell_type": "markdown",
      "source": [
        "---------------------------------------------------------------------------------------------------"
      ],
      "metadata": {
        "id": "hLiLU8TJ5-Tc"
      }
    },
    {
      "cell_type": "markdown",
      "source": [
        "**Global data**"
      ],
      "metadata": {
        "id": "AB3EnFSs1afP"
      }
    },
    {
      "cell_type": "markdown",
      "source": [
        "Frequencies and probabilities *of* global data [from Internet]"
      ],
      "metadata": {
        "id": "SDL4jWw4twyu"
      }
    },
    {
      "cell_type": "code",
      "source": [
        "#Credits to: https://pi.math.cornell.edu/~mec/2003-2004/cryptography/subs/frequencies.html\n",
        "letterFrequencyGlobal = {'E' : 12.02,\n",
        "'T' : 9.10,\n",
        "'A' : 8.12,\n",
        "'O' : 7.68,\n",
        "'I' : 7.31,\n",
        "'N' : 6.95,\n",
        "'S' : 6.28,\n",
        "'R' : 6.02,\n",
        "'H' : 5.92,\n",
        "'D' : 4.32,\n",
        "'L' : 3.98,\n",
        "'U' : 2.88,\n",
        "'C' : 2.71,\n",
        "'M' : 2.61,\n",
        "'F' : 2.30,\n",
        "'Y' : 2.11,\n",
        "'W' : 2.09,\n",
        "'G' : 2.03,\n",
        "'P' : 1.82,\n",
        "'B' : 1.49,\n",
        "'V' : 1.11,\n",
        "'K' : 0.69,\n",
        "'X' : 0.17,\n",
        "'Q' : 0.11,\n",
        "'J' : 0.10,\n",
        "'Z' : 0.07 }\n",
        "letterProbabilityGlobal = {key: letterFrequencyGlobal[key] / 100 for key in letterFrequencyGlobal.keys()}\n",
        "letterProbabilityGlobal"
      ],
      "metadata": {
        "colab": {
          "base_uri": "https://localhost:8080/"
        },
        "id": "yPN5khaodqlc",
        "outputId": "5941556f-5262-488c-cde9-cdca607e088d"
      },
      "execution_count": null,
      "outputs": [
        {
          "output_type": "execute_result",
          "data": {
            "text/plain": [
              "{'E': 0.1202,\n",
              " 'T': 0.091,\n",
              " 'A': 0.0812,\n",
              " 'O': 0.0768,\n",
              " 'I': 0.0731,\n",
              " 'N': 0.0695,\n",
              " 'S': 0.06280000000000001,\n",
              " 'R': 0.0602,\n",
              " 'H': 0.0592,\n",
              " 'D': 0.0432,\n",
              " 'L': 0.0398,\n",
              " 'U': 0.0288,\n",
              " 'C': 0.0271,\n",
              " 'M': 0.026099999999999998,\n",
              " 'F': 0.023,\n",
              " 'Y': 0.021099999999999997,\n",
              " 'W': 0.0209,\n",
              " 'G': 0.0203,\n",
              " 'P': 0.0182,\n",
              " 'B': 0.0149,\n",
              " 'V': 0.0111,\n",
              " 'K': 0.0069,\n",
              " 'X': 0.0017000000000000001,\n",
              " 'Q': 0.0011,\n",
              " 'J': 0.001,\n",
              " 'Z': 0.0007000000000000001}"
            ]
          },
          "metadata": {},
          "execution_count": 270
        }
      ]
    },
    {
      "cell_type": "markdown",
      "source": [
        "Sorting global data according to their probabilities"
      ],
      "metadata": {
        "id": "OF3YkjlQ3E3e"
      }
    },
    {
      "cell_type": "code",
      "source": [
        "SortedGlobal = sorted(letterProbabilityGlobal.items(), key=lambda x: x[1], reverse=True)\n",
        "SortedGlobal"
      ],
      "metadata": {
        "colab": {
          "base_uri": "https://localhost:8080/"
        },
        "id": "o2Ib-2e1hbm4",
        "outputId": "949d0ea2-bf9b-47ba-cd56-2f05493bdea5"
      },
      "execution_count": null,
      "outputs": [
        {
          "output_type": "execute_result",
          "data": {
            "text/plain": [
              "[('E', 0.1202),\n",
              " ('T', 0.091),\n",
              " ('A', 0.0812),\n",
              " ('O', 0.0768),\n",
              " ('I', 0.0731),\n",
              " ('N', 0.0695),\n",
              " ('S', 0.06280000000000001),\n",
              " ('R', 0.0602),\n",
              " ('H', 0.0592),\n",
              " ('D', 0.0432),\n",
              " ('L', 0.0398),\n",
              " ('U', 0.0288),\n",
              " ('C', 0.0271),\n",
              " ('M', 0.026099999999999998),\n",
              " ('F', 0.023),\n",
              " ('Y', 0.021099999999999997),\n",
              " ('W', 0.0209),\n",
              " ('G', 0.0203),\n",
              " ('P', 0.0182),\n",
              " ('B', 0.0149),\n",
              " ('V', 0.0111),\n",
              " ('K', 0.0069),\n",
              " ('X', 0.0017000000000000001),\n",
              " ('Q', 0.0011),\n",
              " ('J', 0.001),\n",
              " ('Z', 0.0007000000000000001)]"
            ]
          },
          "metadata": {},
          "execution_count": 271
        }
      ]
    },
    {
      "cell_type": "markdown",
      "source": [
        "Arranging the last dictionary alphapitically for me"
      ],
      "metadata": {
        "id": "W_f_-VXE3ic0"
      }
    },
    {
      "cell_type": "code",
      "source": [
        "letterProbabilityGlobalSorted = sorted(letterProbabilityGlobal.items())\n",
        "letterProbabilityGlobal4me = dict((x, y) for x, y in letterProbabilityGlobalSorted)\n",
        "letterProbabilityGlobal4me"
      ],
      "metadata": {
        "colab": {
          "base_uri": "https://localhost:8080/"
        },
        "id": "T5r3ryy1eacq",
        "outputId": "ba3834dd-5e80-47eb-b329-05c0fe26b65f"
      },
      "execution_count": null,
      "outputs": [
        {
          "output_type": "execute_result",
          "data": {
            "text/plain": [
              "{'A': 0.0812,\n",
              " 'B': 0.0149,\n",
              " 'C': 0.0271,\n",
              " 'D': 0.0432,\n",
              " 'E': 0.1202,\n",
              " 'F': 0.023,\n",
              " 'G': 0.0203,\n",
              " 'H': 0.0592,\n",
              " 'I': 0.0731,\n",
              " 'J': 0.001,\n",
              " 'K': 0.0069,\n",
              " 'L': 0.0398,\n",
              " 'M': 0.026099999999999998,\n",
              " 'N': 0.0695,\n",
              " 'O': 0.0768,\n",
              " 'P': 0.0182,\n",
              " 'Q': 0.0011,\n",
              " 'R': 0.0602,\n",
              " 'S': 0.06280000000000001,\n",
              " 'T': 0.091,\n",
              " 'U': 0.0288,\n",
              " 'V': 0.0111,\n",
              " 'W': 0.0209,\n",
              " 'X': 0.0017000000000000001,\n",
              " 'Y': 0.021099999999999997,\n",
              " 'Z': 0.0007000000000000001}"
            ]
          },
          "metadata": {},
          "execution_count": 272
        }
      ]
    },
    {
      "cell_type": "markdown",
      "source": [
        "**Applying Huffman**"
      ],
      "metadata": {
        "id": "oZA2nfE37eLe"
      }
    },
    {
      "cell_type": "code",
      "source": [
        "encodedDictionaryGlobal = huffman(SortedGlobal)\n",
        "print(encodedDictionaryGlobal)\n",
        "globalAvrgLen = 0\n",
        "for i in encodedDictionaryGlobal:\n",
        "  print(f'{i} : {encodedDictionaryGlobal[i]}')"
      ],
      "metadata": {
        "colab": {
          "base_uri": "https://localhost:8080/"
        },
        "id": "7_pzBIyJ0Mn3",
        "outputId": "faaf6138-1512-4b0d-81b4-4e8158ccfd11"
      },
      "execution_count": null,
      "outputs": [
        {
          "output_type": "stream",
          "name": "stdout",
          "text": [
            "{'A': '1110', 'B': '101100', 'C': '01000', 'D': '11111', 'E': '011', 'F': '00110', 'G': '111100', 'H': '0101', 'I': '1100', 'J': '0010110111', 'K': '0010111', 'L': '10111', 'M': '00111', 'N': '1010', 'O': '1101', 'P': '101101', 'Q': '001011010', 'R': '1000', 'S': '1001', 'T': '000', 'U': '01001', 'V': '001010', 'W': '111101', 'X': '00101100', 'Y': '00100', 'Z': '0010110110'}\n",
            "A : 1110\n",
            "B : 101100\n",
            "C : 01000\n",
            "D : 11111\n",
            "E : 011\n",
            "F : 00110\n",
            "G : 111100\n",
            "H : 0101\n",
            "I : 1100\n",
            "J : 0010110111\n",
            "K : 0010111\n",
            "L : 10111\n",
            "M : 00111\n",
            "N : 1010\n",
            "O : 1101\n",
            "P : 101101\n",
            "Q : 001011010\n",
            "R : 1000\n",
            "S : 1001\n",
            "T : 000\n",
            "U : 01001\n",
            "V : 001010\n",
            "W : 111101\n",
            "X : 00101100\n",
            "Y : 00100\n",
            "Z : 0010110110\n"
          ]
        }
      ]
    },
    {
      "cell_type": "markdown",
      "source": [
        "**Global data results**"
      ],
      "metadata": {
        "id": "gIbnC-Q-4GC2"
      }
    },
    {
      "cell_type": "markdown",
      "source": [
        "Entropy"
      ],
      "metadata": {
        "id": "8N6N8GDe5nDa"
      }
    },
    {
      "cell_type": "code",
      "source": [
        "ent = entropy(letterProbabilityGlobal4me)\n",
        "print('Global Entropy:',ent)"
      ],
      "metadata": {
        "colab": {
          "base_uri": "https://localhost:8080/"
        },
        "id": "_0IHXS7NhVuf",
        "outputId": "a491255a-e7b7-47b2-8311-1924862bd4db"
      },
      "execution_count": null,
      "outputs": [
        {
          "output_type": "stream",
          "name": "stdout",
          "text": [
            "Global Entropy: 4.181111774714411\n"
          ]
        }
      ]
    },
    {
      "cell_type": "markdown",
      "source": [
        "Average length"
      ],
      "metadata": {
        "id": "m5-XaJ5y549U"
      }
    },
    {
      "cell_type": "code",
      "source": [
        "avglen = avgLen(encodedDictionaryGlobal,letterProbabilityGlobal4me)\n",
        "print('Global average length:',avglen)"
      ],
      "metadata": {
        "colab": {
          "base_uri": "https://localhost:8080/"
        },
        "id": "p1TzJBllhZ4w",
        "outputId": "1f9d6fb7-9f55-41a5-bba8-dd998a272dfb"
      },
      "execution_count": null,
      "outputs": [
        {
          "output_type": "stream",
          "name": "stdout",
          "text": [
            "Global average length: 4.211500000000001\n"
          ]
        }
      ]
    },
    {
      "cell_type": "markdown",
      "source": [
        "Encoded output"
      ],
      "metadata": {
        "id": "EeVY4ABn5qmK"
      }
    },
    {
      "cell_type": "code",
      "source": [
        "stringOutputGlobal = encodestring(fileString,encodedDictionaryGlobal)\n",
        "print('Global output string:',stringOutputGlobal)"
      ],
      "metadata": {
        "colab": {
          "base_uri": "https://localhost:8080/"
        },
        "id": "PXO2vtfsmbEC",
        "outputId": "ce79fa64-cd43-4821-9fc0-d2015731502b"
      },
      "execution_count": null,
      "outputs": [
        {
          "output_type": "stream",
          "name": "stdout",
          "text": [
            "Global output string: 00001011100100111001001111010110111101000111011110010001110101101010100001011110000010011001011100101100101001110000010010011100101011110010111011101110110000000111000110010100000101011111010111101101010111101011000110001010110111110100001011110000111111101011100110100000011101111101010000010111001001010001110101010110001111101011011110100011101111001000111010110101011111011100000010110101101100100011011000001001011000100100011000001111111010111001001110111110101000001011110000011001010011100000100100111001010111100101110111011101100000001110001100100101001100101111111001001101010010100011101010001111110001011101111000001110100111110001110100111000110001000110110000011011101010010001100001100100110111111010010010011010100111111101111100001011101100100110101001010001110101000011101011100101111110101100110101001000111010100010000001011100101011110000110100011010011100101101001001110010111000100100011010010110111011000100100011010010110000100101111101101101010111011010011100111010101001000111110010111101010111110010011010100101000111010100100110010111111010101111000001100101001110001011111101010111100010011110111100011001001101010011111011110101000000110100011010011111100011010001100001011111101110101010010001101001011011001001101110100100001011100100111001001111010110111101000111011110010001110101101010100001011110000010011001011100101100101001110000010010011100101011110010111011101110110000000111000110010100000101011111010111101101010111101011000110001010110111110100001011110000111111101011100110100000011101111101010000010111001001010001110101010110001111101011011110100011101111001000111010110101011111011100000010110101101100100011011000001001011000100100011000001111111010111001001110111110101000001011110000011001010011100000100100111001010111100101110111011101100000001110001100100101001100101111111001001101010010100011101010001111110001011101111000001110100111110001110100111000110001000110110000011011101010010001100001100100110111111010010010011010100111111\n"
          ]
        }
      ]
    },
    {
      "cell_type": "markdown",
      "source": [
        "Output length"
      ],
      "metadata": {
        "id": "xGoWEBIU501O"
      }
    },
    {
      "cell_type": "code",
      "source": [
        "stringOutputGlobalLength = len(stringOutputGlobal)\n",
        "print('Global output length:',stringOutputGlobalLength)"
      ],
      "metadata": {
        "colab": {
          "base_uri": "https://localhost:8080/"
        },
        "id": "LBPcZos2msRB",
        "outputId": "fa1afe14-2522-4b75-d365-0ec34b4adc04"
      },
      "execution_count": null,
      "outputs": [
        {
          "output_type": "stream",
          "name": "stdout",
          "text": [
            "Global output length: 1991\n"
          ]
        }
      ]
    },
    {
      "cell_type": "markdown",
      "source": [
        "---------------------------------------------------------------------------------------------------"
      ],
      "metadata": {
        "id": "j-d7xORO6GpV"
      }
    },
    {
      "cell_type": "markdown",
      "source": [
        "**Local data**"
      ],
      "metadata": {
        "id": "DyOfpWs76iW9"
      }
    },
    {
      "cell_type": "markdown",
      "source": [
        "Reading the file"
      ],
      "metadata": {
        "id": "YXwnHF_ndkPT"
      }
    },
    {
      "cell_type": "code",
      "execution_count": null,
      "metadata": {
        "colab": {
          "base_uri": "https://localhost:8080/",
          "height": 88
        },
        "id": "73dLXohJhb15",
        "outputId": "c6478269-4c66-4554-efae-a93280b6c622"
      },
      "outputs": [
        {
          "output_type": "execute_result",
          "data": {
            "text/plain": [
              "'THISISAPARAGRAPHTHATUSESEVERYSINGLELETTERINTHEALPHABETNOWTHATDOESNTMEANTHISCANBEAPARAGRAPHWITHNOSTORYBUTITDOESMEANTHATEVERYSINGLELETTERISUSEDYOUCANMAKEITASGENERICORFANCIFULASYOUDLIKEYOUCANTALKABOUTANYTHINGFROMQUILTSTOJETSTOXYLOPHONESOHYEAHANDYOUCANUSEWHATEVERLANGUAGEYOUWANTFROMAFRIKAANSTOZULUTHISISAPARAGRAPHTHATUSESEVERYSINGLELETTERINTHEALPHABETNOWTHATDOESNTMEANTHISCANBEAPARAGRAPHWITHNOSTORYBUTITDOESMEANTHATEVERYSINGLELETTERISUSEDYOUCANMAKEITASGENERICORFANCIFULASYOUD'"
            ],
            "application/vnd.google.colaboratory.intrinsic+json": {
              "type": "string"
            }
          },
          "metadata": {},
          "execution_count": 278
        }
      ],
      "source": [
        "#open the file in the read mode\n",
        "fileOpen = open(\"Test1.txt\", \"r\") \n",
        "#read the file and maka all letters uppered\n",
        "fileString = fileOpen.read().upper()\n",
        "#close the file\n",
        "fileOpen.close()\n",
        "#show the file data\n",
        "fileString"
      ]
    },
    {
      "cell_type": "markdown",
      "source": [
        "Frequencies and probabilities of local data"
      ],
      "metadata": {
        "id": "o7YtOtaKuQAR"
      }
    },
    {
      "cell_type": "code",
      "source": [
        "from collections import Counter\n",
        "#get the length of the input\n",
        "total = len(fileString)\n",
        "#create dictionary for letters frequencies\n",
        "letterFrequencyLocal = dict(Counter(fileString))\n",
        "#get the probabilities\n",
        "letterProbabilityLocal = {key: letterFrequencyLocal[key] / total for key in letterFrequencyLocal.keys()}\n",
        "#show the probabilities\n",
        "letterProbabilityLocal"
      ],
      "metadata": {
        "colab": {
          "base_uri": "https://localhost:8080/"
        },
        "id": "8QH1TOyafbt3",
        "outputId": "fcb6b3f3-070e-402a-8acd-44f06a558d73"
      },
      "execution_count": null,
      "outputs": [
        {
          "output_type": "execute_result",
          "data": {
            "text/plain": [
              "{'T': 0.10615711252653928,\n",
              " 'H': 0.05307855626326964,\n",
              " 'I': 0.059447983014861996,\n",
              " 'S': 0.07006369426751592,\n",
              " 'A': 0.11889596602972399,\n",
              " 'P': 0.02335456475583864,\n",
              " 'R': 0.055201698513800426,\n",
              " 'G': 0.027600849256900213,\n",
              " 'U': 0.044585987261146494,\n",
              " 'E': 0.11040339702760085,\n",
              " 'V': 0.010615711252653927,\n",
              " 'Y': 0.03397027600849257,\n",
              " 'N': 0.07006369426751592,\n",
              " 'L': 0.03821656050955414,\n",
              " 'B': 0.014861995753715499,\n",
              " 'O': 0.059447983014861996,\n",
              " 'W': 0.012738853503184714,\n",
              " 'D': 0.01910828025477707,\n",
              " 'M': 0.016985138004246284,\n",
              " 'C': 0.021231422505307854,\n",
              " 'K': 0.010615711252653927,\n",
              " 'F': 0.014861995753715499,\n",
              " 'Q': 0.0021231422505307855,\n",
              " 'J': 0.0021231422505307855,\n",
              " 'X': 0.0021231422505307855,\n",
              " 'Z': 0.0021231422505307855}"
            ]
          },
          "metadata": {},
          "execution_count": 279
        }
      ]
    },
    {
      "cell_type": "markdown",
      "source": [
        "Creating arranged dictionary for the probabilities of the local data"
      ],
      "metadata": {
        "id": "QUvyxmwYtrhJ"
      }
    },
    {
      "cell_type": "code",
      "source": [
        "SortedLocal = sorted(letterProbabilityLocal.items(), key=lambda x: x[1], reverse=True)\n",
        "SortedLocal"
      ],
      "metadata": {
        "colab": {
          "base_uri": "https://localhost:8080/"
        },
        "id": "3Z_4ffMhhrGN",
        "outputId": "0c0ab54c-7936-4d55-cd42-fa184eb9cf01"
      },
      "execution_count": null,
      "outputs": [
        {
          "output_type": "execute_result",
          "data": {
            "text/plain": [
              "[('A', 0.11889596602972399),\n",
              " ('E', 0.11040339702760085),\n",
              " ('T', 0.10615711252653928),\n",
              " ('S', 0.07006369426751592),\n",
              " ('N', 0.07006369426751592),\n",
              " ('I', 0.059447983014861996),\n",
              " ('O', 0.059447983014861996),\n",
              " ('R', 0.055201698513800426),\n",
              " ('H', 0.05307855626326964),\n",
              " ('U', 0.044585987261146494),\n",
              " ('L', 0.03821656050955414),\n",
              " ('Y', 0.03397027600849257),\n",
              " ('G', 0.027600849256900213),\n",
              " ('P', 0.02335456475583864),\n",
              " ('C', 0.021231422505307854),\n",
              " ('D', 0.01910828025477707),\n",
              " ('M', 0.016985138004246284),\n",
              " ('B', 0.014861995753715499),\n",
              " ('F', 0.014861995753715499),\n",
              " ('W', 0.012738853503184714),\n",
              " ('V', 0.010615711252653927),\n",
              " ('K', 0.010615711252653927),\n",
              " ('Q', 0.0021231422505307855),\n",
              " ('J', 0.0021231422505307855),\n",
              " ('X', 0.0021231422505307855),\n",
              " ('Z', 0.0021231422505307855)]"
            ]
          },
          "metadata": {},
          "execution_count": 280
        }
      ]
    },
    {
      "cell_type": "markdown",
      "source": [
        "Creating alphapitically arranged dictionary for the probabilities of the local data for me"
      ],
      "metadata": {
        "id": "Vn9rJaR0tUZf"
      }
    },
    {
      "cell_type": "code",
      "source": [
        "letterProbabilityLocalSorted = sorted(letterProbabilityLocal.items())\n",
        "letterProbabilityLocal4me = dict((x, y) for x, y in letterProbabilityLocalSorted)\n",
        "letterProbabilityLocal4me"
      ],
      "metadata": {
        "colab": {
          "base_uri": "https://localhost:8080/"
        },
        "id": "xuygogyLbUFT",
        "outputId": "540bb958-7157-4eaf-c13e-f0a1f47460f3"
      },
      "execution_count": null,
      "outputs": [
        {
          "output_type": "execute_result",
          "data": {
            "text/plain": [
              "{'A': 0.11889596602972399,\n",
              " 'B': 0.014861995753715499,\n",
              " 'C': 0.021231422505307854,\n",
              " 'D': 0.01910828025477707,\n",
              " 'E': 0.11040339702760085,\n",
              " 'F': 0.014861995753715499,\n",
              " 'G': 0.027600849256900213,\n",
              " 'H': 0.05307855626326964,\n",
              " 'I': 0.059447983014861996,\n",
              " 'J': 0.0021231422505307855,\n",
              " 'K': 0.010615711252653927,\n",
              " 'L': 0.03821656050955414,\n",
              " 'M': 0.016985138004246284,\n",
              " 'N': 0.07006369426751592,\n",
              " 'O': 0.059447983014861996,\n",
              " 'P': 0.02335456475583864,\n",
              " 'Q': 0.0021231422505307855,\n",
              " 'R': 0.055201698513800426,\n",
              " 'S': 0.07006369426751592,\n",
              " 'T': 0.10615711252653928,\n",
              " 'U': 0.044585987261146494,\n",
              " 'V': 0.010615711252653927,\n",
              " 'W': 0.012738853503184714,\n",
              " 'X': 0.0021231422505307855,\n",
              " 'Y': 0.03397027600849257,\n",
              " 'Z': 0.0021231422505307855}"
            ]
          },
          "metadata": {},
          "execution_count": 281
        }
      ]
    },
    {
      "cell_type": "markdown",
      "source": [
        "**Applying Huffman**"
      ],
      "metadata": {
        "id": "z1dQczDhcuj9"
      }
    },
    {
      "cell_type": "code",
      "source": [
        "encodedDictionaryLocal = huffman(SortedLocal)\n",
        "print(encodedDictionaryLocal)\n",
        "for i in encodedDictionaryLocal:\n",
        "  print(f'{i} : {encodedDictionaryLocal[i]}')"
      ],
      "metadata": {
        "colab": {
          "base_uri": "https://localhost:8080/"
        },
        "id": "pEys7vM60iHd",
        "outputId": "c84b5dca-9655-4d66-e193-15501bb9c61a"
      },
      "execution_count": null,
      "outputs": [
        {
          "output_type": "stream",
          "name": "stdout",
          "text": [
            "{'A': '100', 'B': '011011', 'C': '111011', 'D': '111010', 'E': '010', 'F': '011010', 'G': '01100', 'H': '0010', 'I': '1010', 'J': '101111000', 'K': '1011111', 'L': '11100', 'M': '101110', 'N': '1100', 'O': '0111', 'P': '111110', 'Q': '101111001', 'R': '0011', 'S': '1101', 'T': '000', 'U': '11110', 'V': '1111110', 'W': '1111111', 'X': '101111011', 'Y': '10110', 'Z': '101111010'}\n",
            "A : 100\n",
            "B : 011011\n",
            "C : 111011\n",
            "D : 111010\n",
            "E : 010\n",
            "F : 011010\n",
            "G : 01100\n",
            "H : 0010\n",
            "I : 1010\n",
            "J : 101111000\n",
            "K : 1011111\n",
            "L : 11100\n",
            "M : 101110\n",
            "N : 1100\n",
            "O : 0111\n",
            "P : 111110\n",
            "Q : 101111001\n",
            "R : 0011\n",
            "S : 1101\n",
            "T : 000\n",
            "U : 11110\n",
            "V : 1111110\n",
            "W : 1111111\n",
            "X : 101111011\n",
            "Y : 10110\n",
            "Z : 101111010\n"
          ]
        }
      ]
    },
    {
      "cell_type": "markdown",
      "source": [
        "**Local data results**"
      ],
      "metadata": {
        "id": "zZS4-2Fy7qs-"
      }
    },
    {
      "cell_type": "markdown",
      "source": [
        "Entropy"
      ],
      "metadata": {
        "id": "rnab0izC74Wc"
      }
    },
    {
      "cell_type": "code",
      "source": [
        "entl = entropy(letterProbabilityLocal4me)\n",
        "print('Local entropy:',entl)"
      ],
      "metadata": {
        "colab": {
          "base_uri": "https://localhost:8080/"
        },
        "id": "2FhuBOJ1hDuG",
        "outputId": "a661fc28-48a8-4b08-c619-b625349d2449"
      },
      "execution_count": null,
      "outputs": [
        {
          "output_type": "stream",
          "name": "stdout",
          "text": [
            "Local entropy: 4.154498990026284\n"
          ]
        }
      ]
    },
    {
      "cell_type": "markdown",
      "source": [
        "Average length"
      ],
      "metadata": {
        "id": "x8Dsllru75vI"
      }
    },
    {
      "cell_type": "code",
      "source": [
        "avglenl = avgLen(encodedDictionaryLocal,letterProbabilityLocal4me)\n",
        "print('Local average length:',avglenl)"
      ],
      "metadata": {
        "colab": {
          "base_uri": "https://localhost:8080/"
        },
        "id": "g4lxpbOKfUh6",
        "outputId": "31bb6b06-0640-43c6-9e19-1815329eb720"
      },
      "execution_count": null,
      "outputs": [
        {
          "output_type": "stream",
          "name": "stdout",
          "text": [
            "Local average length: 4.174097664543525\n"
          ]
        }
      ]
    },
    {
      "cell_type": "markdown",
      "source": [
        "Encoded output"
      ],
      "metadata": {
        "id": "2dqfzr_v78EL"
      }
    },
    {
      "cell_type": "code",
      "source": [
        "stringOutputLocal = encodestring(fileString,encodedDictionaryLocal)\n",
        "print('Local output string:',stringOutputLocal)"
      ],
      "metadata": {
        "colab": {
          "base_uri": "https://localhost:8080/"
        },
        "id": "fQc9kOzzj4qC",
        "outputId": "9b367758-e881-4bde-c6a5-30521e6bfa14"
      },
      "execution_count": null,
      "outputs": [
        {
          "output_type": "stream",
          "name": "stdout",
          "text": [
            "Local output string: 0000010101011011010110110011111010000111000110000111001111100010000001010000011110110101011010101111110010001110110110110101100011001110001011100010000000010001110101100000001001010011100111110001010001101101000011000111111111100000101000001110100111010110111000001011100101001100000001010101101111011100110001101101010011111010000111000110000111001111100010111111110100000010110001111101000011100111011001101111110000101000011101001110101101101110010100110000000101000000101111110010001110110110110101100011001110001011100010000000010001110101101111101101010111010101100111111101110111001100101110100101111101010100001001101011000101100010001110101110110111001101101010011001110111010011010111101110010011011011001111111011101011100101010111110101011001111111011101110011000001001110010111111000110110111111100001001100101100000010101011000110001101000110111101110101111001111101010111000001101000011110111100001000011010000111101111011101101110001111111100010011111000101101011100101011001010000101001100111010101100111111101110111001100111101101010111111100101000000101111110010001111100100110001100111101000110001010110011111110111111110011000000110100011011110111010001101000111010101111110010011001101000011110111101011110111001111000000101010110110101101100111110100001110001100001110011111000100000010100000111101101010110101011111100100011101101101101011000110011100010111000100000000100011101011000000010010100111001111100010100011011010000110001111111111000001010000011101001110101101110000010111001010011000000010101011011110111001100011011010100111110100001110001100001110011111000101111111101000000101100011111010000111001110110011011111100001010000111010011101011011011100101001100000001010000001011111100100011101101101101011000110011100010111000100000000100011101011011111011010101110101011001111111011101110011001011101001011111010101000010011010110001011000100011101011101101110011011010100110011101110100110101111011100100110110110011111110111010\n"
          ]
        }
      ]
    },
    {
      "cell_type": "markdown",
      "source": [
        "Output length"
      ],
      "metadata": {
        "id": "vGRKzr9U8Co7"
      }
    },
    {
      "cell_type": "code",
      "source": [
        "stringOutputLocallLength = len(stringOutputLocal)\n",
        "print('Local output length:',stringOutputLocallLength)"
      ],
      "metadata": {
        "colab": {
          "base_uri": "https://localhost:8080/"
        },
        "id": "12gKgLuCmntE",
        "outputId": "362209df-9fc1-4576-cdb6-219c27a3e5ae"
      },
      "execution_count": null,
      "outputs": [
        {
          "output_type": "stream",
          "name": "stdout",
          "text": [
            "Local output length: 1966\n"
          ]
        }
      ]
    },
    {
      "cell_type": "markdown",
      "source": [
        "---------------------------------------------------------------------------------------------------"
      ],
      "metadata": {
        "id": "iaD6BFmB9TYH"
      }
    },
    {
      "cell_type": "markdown",
      "source": [
        "**Notes**"
      ],
      "metadata": {
        "id": "y5NpyYq19aVS"
      }
    },
    {
      "cell_type": "markdown",
      "source": [
        "->Global data have bigger entropy and average length\n",
        "\n",
        "->Local data have bigger output length"
      ],
      "metadata": {
        "id": "TVW5d2ie9b9Y"
      }
    }
  ]
}
